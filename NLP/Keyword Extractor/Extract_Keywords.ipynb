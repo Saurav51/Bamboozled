{
 "cells": [
  {
   "cell_type": "markdown",
   "metadata": {},
   "source": [
    "__Import the required modules__"
   ]
  },
  {
   "cell_type": "code",
   "execution_count": 1,
   "metadata": {},
   "outputs": [],
   "source": [
    "#NLP Modules\n",
    "import spacy\n",
    "nlp = spacy.load('en_core_web_sm')\n",
    "import re\n",
    "from sklearn.feature_extraction.text import CountVectorizer\n",
    "from sklearn.feature_extraction.text import TfidfTransformer\n",
    "import enchant\n",
    "d = enchant.Dict(\"en_UK\")\n",
    "\n",
    "import urllib\n",
    "\n",
    "#Statistics Modules\n",
    "import pandas as pd\n",
    "import numpy as np\n",
    "import seaborn as sns\n",
    "from scipy.sparse import coo_matrix\n",
    "import random"
   ]
  },
  {
   "cell_type": "markdown",
   "metadata": {},
   "source": [
    "__Read the text file__"
   ]
  },
  {
   "cell_type": "code",
   "execution_count": 2,
   "metadata": {},
   "outputs": [],
   "source": [
    "fp = open('Chapter_3.txt', 'r')\n",
    "text = str(fp.read())\n",
    "fp.close()"
   ]
  },
  {
   "cell_type": "markdown",
   "metadata": {},
   "source": [
    "__Extract custom stop words__"
   ]
  },
  {
   "cell_type": "code",
   "execution_count": 3,
   "metadata": {},
   "outputs": [
    {
     "name": "stdout",
     "output_type": "stream",
     "text": [
      "STOP WORDS ADDED:\n",
      "['chapter', 'ncert', 'class', 'years', 'year', 'thousand', 'notice', 'list', 'suggest', 'men', 'women', 'page', 'example', 'buildings', 'years', 'archaeologists', 'found', 'cities', 'stone', 'probably', 'people', 'harappan', 'men', ':', 'find', 'languages']\n"
     ]
    }
   ],
   "source": [
    "#Stop-words are the words most common words in any language. eg: the, is,on. These need to be filtered out.\n",
    "#Spacy has an in built corpus of stop words.\n",
    "#In addition to this, it is important to filter out some dataset specific stop-words.\n",
    "\n",
    "word_count = {}                                               #Dictionary to hold the frequencies of every word.\n",
    "for word in text.split():\n",
    "    if word.lower() in word_count.keys():\n",
    "        word_count[word.lower()] +=1\n",
    "    else:\n",
    "        word_count[word.lower()] = 1\n",
    "\n",
    "\n",
    "frequencies = [v for v in word_count.values()]\n",
    "threshold = np.percentile(frequencies, 95)                   #Threshold frequency is chosen as the 95th percentile\n",
    "\n",
    "#Creating custom stop-words list\n",
    "s_w = ['chapter', 'ncert', 'class', 'years', 'year',         #Basic stop-words for a textbook\n",
    "       'thousand', 'notice', 'list', 'suggest', 'men', 'women', 'page', 'example']    \n",
    "\n",
    "#Also add: east, west, north, south?\n",
    "\n",
    "for k, v in word_count.items():\n",
    "    if v>threshold:\n",
    "        if not nlp.vocab[k].is_stop:                         #Check is the word isn't a pre-existing stop word\n",
    "            s_w.append(k)\n",
    "\n",
    "def custom_stop_words(word):                                 #Function to add to the default stop words\n",
    "    if not nlp.vocab[word].is_stop:\n",
    "        nlp.Defaults.stop_words.add(word)\n",
    "        nlp.vocab[word].is_stop = True\n",
    "\n",
    "for word in s_w:\n",
    "    custom_stop_words(word)\n",
    "    \n",
    "print(\"STOP WORDS ADDED:\", s_w, sep = '\\n')"
   ]
  },
  {
   "cell_type": "markdown",
   "metadata": {},
   "source": [
    "__Split the chapter into sections__"
   ]
  },
  {
   "cell_type": "code",
   "execution_count": 4,
   "metadata": {},
   "outputs": [
    {
     "name": "stdout",
     "output_type": "stream",
     "text": [
      "NUMBER OF SECTIONS:\n",
      "20\n"
     ]
    }
   ],
   "source": [
    "text_ = text.split(\"\\n\\n\")\n",
    "text_ = [each.replace('\\n', ' ') for each in text_]                    #Method : A section header does not end with a punctuation\n",
    "                                                                       #and is followed by \\n\\n\n",
    "    \n",
    "index = 0\n",
    "section_text = [\"\"]                                                    #List to hold section text\n",
    "section_headers = []                                                   #List to hold section headers\n",
    "for para in text_:\n",
    "    if nlp.vocab[para[-1]].is_punct or ':' in para:\n",
    "        section_text[index] += \" \" +para\n",
    "    else:\n",
    "        if(len(para) < 50 and len(para) > 4 and para[0].isupper()):    #Little text paragraphs are ignored as they desc images\n",
    "            if not section_text[index] == \"\":\n",
    "                index +=1\n",
    "                section_text.append(para + '.')\n",
    "            else:\n",
    "                section_text[index] += para\n",
    "            section_headers.append(para)\n",
    "        else:\n",
    "            section_text[index] += \" \" + para\n",
    "\n",
    "print(\"NUMBER OF SECTIONS:\",len(section_headers), sep = '\\n')"
   ]
  },
  {
   "cell_type": "code",
   "execution_count": 5,
   "metadata": {},
   "outputs": [],
   "source": [
    "#The first section created includes the heading, with words that'll recur through all sections, and hence, can be removed.\n",
    "#They are added on as stop words\n",
    "\n",
    "more_sw = []\n",
    "for i in nlp(\" \".join(section_text[0].split())):\n",
    "    word = i.lemma_\n",
    "    if len(word)>1:\n",
    "        if not word in s_w:\n",
    "            more_sw.append(word.lower())\n",
    "            \n",
    "section_text = [para for para in section_text if len(para)>50]  \n",
    "\n",
    "for word in more_sw:\n",
    "    custom_stop_words(word)"
   ]
  },
  {
   "cell_type": "code",
   "execution_count": 6,
   "metadata": {},
   "outputs": [],
   "source": [
    "#List to contain all the keywords.To prevent the addition of pre-existing keywords.\n",
    "nc_keyword_vocab = []\n",
    "keyword_vocab = []"
   ]
  },
  {
   "cell_type": "markdown",
   "metadata": {},
   "source": [
    "### 1. Extraction of noun chunks from each section"
   ]
  },
  {
   "cell_type": "code",
   "execution_count": 7,
   "metadata": {},
   "outputs": [
    {
     "name": "stdout",
     "output_type": "stream",
     "text": [
      "['engineers', 'time', 'Harappa', 'Lothal', 'construction', 'larger', 'things', 'special', 'natural', 'Kalibangan', 'sseronslap houses', 'copper tool', 'beads', 'drained', 'steps', 'Hatappa', 'occasions', 'subcontinent', 'archaeologists', 'plaster', 'mound', 'buildings', 'Pakistan', 'layer', 'rich source', 'west', 'similar', 'rooms', 'railway lines', 'Punjab', 'Water', 'fire altars', 'citadel', 'tank', 'interlocking pattern', 'baked', 'site', 'ARABIAN', 'Mohenjodaro', 'high quality bricks', 'Gujarat', 'sacrifices', 'unque object', 'story', 'Notte Great Bath', 'Sind', 'important', 'elaborate store', 'smaller fesshon Horyanaane', 'walls', 'east', 'area', 'city']\n"
     ]
    }
   ],
   "source": [
    "noun_chunks = {}\n",
    "\n",
    "def find_nchunks(section):\n",
    "    chunks = []                                                             #List of all the noun chunks in a section\n",
    "    for chunk in section.noun_chunks:\n",
    "        chunks.append(nlp(chunk.text))\n",
    "        \n",
    "    filtered_chunks = []                                                    #List of partially processed and filtered chunks\n",
    "    for chunk in chunks:\n",
    "        chunk_new = \"\"\n",
    "        for word in chunk:\n",
    "            word_ = nlp.vocab[word.lemma_]                                  #Filter conditions\n",
    "            if len(word_.text) > 3:                                         #Word length > 3\n",
    "                if not word_.text in nc_keyword_vocab:                      #Word hasn't already been mentioned in a n chunk\n",
    "                    if not word_.is_stop:                                   #Not a stop word\n",
    "                        if not word_.text == '-PRON-':                      #Not a pronoun\n",
    "                            if nlp.vocab[word_.text].is_alpha:              #Not numeric/with junk characters\n",
    "                                if not word.pos in [84, 85, 89, 90, 100]:   #ADP, ADV, DET, NotDef, INTJ\n",
    "                                    if not chunk_new == \"\":\n",
    "                                        chunk_new += \" \"\n",
    "                                    chunk_new += word.text\n",
    "                \n",
    "        if (len(chunk_new.split())) <4:                    \n",
    "            if not chunk_new == \"\" and chunk_new not in filtered_chunks:                     #Avoiding rep of chunks within section\n",
    "                filtered_chunks.append(chunk_new)\n",
    "                nc_keyword_vocab.extend([nlp(word)[0].lemma_ for word in chunk_new.split()]) #Adds words in chunks to the keyword vocab\n",
    "    \n",
    "    return filtered_chunks\n",
    "\n",
    "index = 1\n",
    "for para in section_text:\n",
    "    noun_chunks['Section ' + str(index)] = list(set(find_nchunks(nlp(para))))\n",
    "    index += 1\n",
    "            \n",
    "print((noun_chunks['Section 1']))"
   ]
  },
  {
   "cell_type": "markdown",
   "metadata": {},
   "source": [
    "### 2. Extraction of keywords from each section."
   ]
  },
  {
   "cell_type": "markdown",
   "metadata": {},
   "source": [
    "__Add named entities to raw keyword list__"
   ]
  },
  {
   "cell_type": "code",
   "execution_count": 8,
   "metadata": {},
   "outputs": [
    {
     "name": "stdout",
     "output_type": "stream",
     "text": [
      "['match', 'greek', 'german', 'french', 'italian', 'indo']\n"
     ]
    }
   ],
   "source": [
    "doc = [nlp(section) for section in section_text]\n",
    "\n",
    "def create_ent_list(section):\n",
    "    ent_list = set([(ent.text).lower() for ent in section.ents if not ent.label_ in [\"ORDINAL\", \"CARDINAL\"]\n",
    "                    and nlp((ent.text))[0].lemma_ not in nc_keyword_vocab\n",
    "                    and nlp.vocab[ent.text].is_alpha \n",
    "                    and not nlp.vocab[(ent.text).lower()].is_stop\n",
    "                    and len((ent.text).split())<2\n",
    "                    and len(ent.text)>3])\n",
    "    \n",
    "    keyword_vocab.extend(ent_list)\n",
    "    return ent_list\n",
    "\n",
    "#Create a dictionary to hold keywords to demarcate sections.\n",
    "#Later, will have the key-value pairs section segmented.\n",
    "\n",
    "raw_keywords = {}  \n",
    "index = 1\n",
    "for i in doc:\n",
    "    raw_keywords[\"Section \" + str(index)] = list(create_ent_list(i))\n",
    "    index += 1\n",
    "    \n",
    "print(raw_keywords['Section 9'])"
   ]
  },
  {
   "cell_type": "markdown",
   "metadata": {},
   "source": [
    "__Pre-Processing the text__"
   ]
  },
  {
   "cell_type": "code",
   "execution_count": 9,
   "metadata": {},
   "outputs": [
    {
     "name": "stdout",
     "output_type": "stream",
     "text": [
      "PRE-PROCESSED TEXT:\n",
      "['the', 'story', 'of', 'hatappa', 'very', 'often', 'old', 'buildings', 'have', 'a', 'story', 'to', 'tell', 'nearly', 'a', 'hundred', 'and', 'fifty', 'years', 'ago']\n"
     ]
    }
   ],
   "source": [
    "def preprocess(text):\n",
    "\n",
    "    # 1. Removing punctuations\n",
    "    text = re.sub('[^a-zA-Z]', ' ', text)\n",
    "\n",
    "    # 2. Convert to lower case\n",
    "    text = text.lower()\n",
    "\n",
    "    # 3. Remove tags\n",
    "    text = re.sub(\"&lt;/?.*?&gt;\",\" &lt;&gt; \",text)\n",
    "\n",
    "    # 4. Remove special characters\n",
    "    text = re.sub(\"(\\W)+\", \" \", text)\n",
    "\n",
    "    # 5. Convert to list\n",
    "    text = text.split()\n",
    "    return text\n",
    "\n",
    "index = 0\n",
    "for text in section_text:\n",
    "    section_text[index] = preprocess(text)\n",
    "    index += 1\n",
    "\n",
    "index = 0\n",
    "for header in section_headers:\n",
    "    section_headers[index] = \" \".join(preprocess(header))\n",
    "    index += 1\n",
    "\n",
    "print('PRE-PROCESSED TEXT:', section_text[0][:20], sep = '\\n')"
   ]
  },
  {
   "cell_type": "code",
   "execution_count": 10,
   "metadata": {},
   "outputs": [
    {
     "name": "stdout",
     "output_type": "stream",
     "text": [
      "['the story of hatappa', 'houses drains and streets', 'new crafts in the city', 'in search of raw materials', 'food for people in the cities', 'a closer look harappan towns in gujarat', 'the mystery of the end', 'elsewhere', 'imagine', 'how historians study the rigveda', 'cattle horses and chariots', 'words to describe people', 'silent sentinels the story of the megaliths', 'a special burial at namgaon', 'what skeletal studies tell us', 'occupations at inamgaon', 'elsewhere', 'imagine', 'name work vanguage', 'anything else']\n"
     ]
    }
   ],
   "source": [
    "print(section_headers)"
   ]
  },
  {
   "cell_type": "markdown",
   "metadata": {},
   "source": [
    "_Lemmatization_"
   ]
  },
  {
   "cell_type": "code",
   "execution_count": 11,
   "metadata": {},
   "outputs": [
    {
     "name": "stdout",
     "output_type": "stream",
     "text": [
      "LEMMATIZED TEXT:\n",
      "['the', 'story', 'of', 'hatappa', '.', 'very', 'often', ',', 'old', 'building', 'have', 'a', 'story', 'to', 'tell', '.', 'nearly', 'a', 'hundred', 'and']\n"
     ]
    }
   ],
   "source": [
    "#Lemmatization\n",
    "\n",
    "lemmatized_list = []\n",
    "\n",
    "for section in doc:\n",
    "    l = []\n",
    "    for token in section:\n",
    "        l.append(token.lemma_)\n",
    "    lemmatized_list.append(l)\n",
    "    \n",
    "print(\"LEMMATIZED TEXT:\", lemmatized_list[0][:20], sep = '\\n')"
   ]
  },
  {
   "cell_type": "markdown",
   "metadata": {},
   "source": [
    "_Removing stop words_"
   ]
  },
  {
   "cell_type": "code",
   "execution_count": 12,
   "metadata": {},
   "outputs": [
    {
     "name": "stdout",
     "output_type": "stream",
     "text": [
      "FILTERED TEXT:\n",
      "['story', 'hatappa', 'old', 'building', 'story', 'tell', 'nearly', 'ago', 'railway', 'line', 'lay', 'time', 'punjab', 'engineer', 'stumble', 'site', 'harappa', 'present', 'day', 'pakistan']\n"
     ]
    }
   ],
   "source": [
    "filtered_list = []\n",
    "\n",
    "for section in lemmatized_list:\n",
    "    section = nlp(\" \".join(section))\n",
    "    l = []\n",
    "    for token in section:\n",
    "        if not token.is_stop:\n",
    "            if not token.is_punct:\n",
    "                if not token.text == '-PRON-':\n",
    "                    l.append(token.text)\n",
    "    filtered_list.append(l)\n",
    "\n",
    "print(\"FILTERED TEXT:\", filtered_list[0][:20], sep = '\\n')"
   ]
  },
  {
   "cell_type": "markdown",
   "metadata": {},
   "source": [
    "### 3. Text Feature Extraction"
   ]
  },
  {
   "cell_type": "markdown",
   "metadata": {},
   "source": [
    "__Preliminary Data Exploration__"
   ]
  },
  {
   "cell_type": "code",
   "execution_count": 13,
   "metadata": {},
   "outputs": [
    {
     "name": "stdout",
     "output_type": "stream",
     "text": [
      "             Word  Freq\n",
      "0            city    33\n",
      "1             use    30\n",
      "2            know    16\n",
      "3             ago    14\n",
      "4        describe    13\n",
      "5           river    13\n",
      "6          burial    13\n",
      "7        language    13\n",
      "8         rigveda    13\n",
      "9        building    12\n",
      "10          large    12\n",
      "11          house    12\n",
      "12            man    12\n",
      "13  archaeologist    11\n",
      "14           bead    11\n",
      "15          water    11\n",
      "16          place    11\n",
      "17          write    11\n",
      "18           bury    11\n",
      "19         family    11\n"
     ]
    },
    {
     "name": "stderr",
     "output_type": "stream",
     "text": [
      "C:\\Users\\manah\\.conda\\envs\\nlp_course\\lib\\site-packages\\sklearn\\feature_extraction\\text.py:300: UserWarning: Your stop_words may be inconsistent with your preprocessing. Tokenizing the stop words generated tokens ['pasts'] not in stop_words.\n",
      "  'stop_words.' % sorted(inconsistent))\n"
     ]
    },
    {
     "data": {
      "text/plain": [
       "[Text(0, 0, 'city'),\n",
       " Text(0, 0, 'use'),\n",
       " Text(0, 0, 'know'),\n",
       " Text(0, 0, 'ago'),\n",
       " Text(0, 0, 'describe'),\n",
       " Text(0, 0, 'river'),\n",
       " Text(0, 0, 'burial'),\n",
       " Text(0, 0, 'language'),\n",
       " Text(0, 0, 'rigveda'),\n",
       " Text(0, 0, 'building'),\n",
       " Text(0, 0, 'large'),\n",
       " Text(0, 0, 'house'),\n",
       " Text(0, 0, 'man'),\n",
       " Text(0, 0, 'archaeologist'),\n",
       " Text(0, 0, 'bead'),\n",
       " Text(0, 0, 'water'),\n",
       " Text(0, 0, 'place'),\n",
       " Text(0, 0, 'write'),\n",
       " Text(0, 0, 'bury'),\n",
       " Text(0, 0, 'family')]"
      ]
     },
     "execution_count": 13,
     "metadata": {},
     "output_type": "execute_result"
    },
    {
     "data": {
      "image/png": "[encoded data removed]",
      "text/plain": [
       "<Figure size 936x576 with 1 Axes>"
      ]
     },
     "metadata": {},
     "output_type": "display_data"
    }
   ],
   "source": [
    "l = []                                                          #Create a list of all the words\n",
    "for section in filtered_list:\n",
    "    for word in section:\n",
    "        l.append(word)\n",
    "\n",
    "    \n",
    "count_vector = CountVectorizer(max_df = 0.8, stop_words = nlp.Defaults.stop_words,\n",
    "                               max_features = 10000, ngram_range = (1,3))\n",
    "x = count_vector.fit_transform(l)\n",
    "\n",
    "#Most frequently occuring words\n",
    "\n",
    "def get_top_n_words(text, n = None):\n",
    "    vec = CountVectorizer().fit(text)\n",
    "    bag_of_words = vec.transform(text)\n",
    "    sum_words = bag_of_words.sum(axis=0) \n",
    "    words_freq = [(word, sum_words[0, idx]) for word, idx in      \n",
    "                   vec.vocabulary_.items()]\n",
    "    words_freq =sorted(words_freq, key = lambda x: x[1], \n",
    "                       reverse=True)\n",
    "    return words_freq[:n]\n",
    "\n",
    "top_words = get_top_n_words(l, n=20)\n",
    "\n",
    "#Convert to datframe for plotting\n",
    "top_df = pd.DataFrame(top_words)\n",
    "top_df.columns=[\"Word\", \"Freq\"]\n",
    "print(top_df)\n",
    "\n",
    "#Plotting n-grams - Mono\n",
    "sns.set(rc={'figure.figsize':(13,8)})\n",
    "g = sns.barplot(x=\"Word\", y=\"Freq\", data=top_df)\n",
    "g.set_xticklabels(g.get_xticklabels(), rotation=30)\n"
   ]
  },
  {
   "cell_type": "code",
   "execution_count": 14,
   "metadata": {},
   "outputs": [
    {
     "name": "stdout",
     "output_type": "stream",
     "text": [
      "              Bi-gram  Freq\n",
      "0        raw material     7\n",
      "1         present day     6\n",
      "2        old building     5\n",
      "3         gold silver     5\n",
      "4           man woman     4\n",
      "5       farmer herder     4\n",
      "6      language speak     4\n",
      "7       building city     3\n",
      "8           live city     3\n",
      "9   look illustration     3\n",
      "10      reason answer     3\n",
      "11    family language     3\n",
      "12      belong family     3\n",
      "13      describe term     3\n",
      "14          term work     3\n",
      "15      work language     3\n",
      "16          jana vish     3\n",
      "17       railway line     2\n",
      "18       day pakistan     2\n",
      "19          city city     2\n"
     ]
    },
    {
     "data": {
      "text/plain": [
       "[Text(0, 0, 'raw material'),\n",
       " Text(0, 0, 'present day'),\n",
       " Text(0, 0, 'old building'),\n",
       " Text(0, 0, 'gold silver'),\n",
       " Text(0, 0, 'man woman'),\n",
       " Text(0, 0, 'farmer herder'),\n",
       " Text(0, 0, 'language speak'),\n",
       " Text(0, 0, 'building city'),\n",
       " Text(0, 0, 'live city'),\n",
       " Text(0, 0, 'look illustration'),\n",
       " Text(0, 0, 'reason answer'),\n",
       " Text(0, 0, 'family language'),\n",
       " Text(0, 0, 'belong family'),\n",
       " Text(0, 0, 'describe term'),\n",
       " Text(0, 0, 'term work'),\n",
       " Text(0, 0, 'work language'),\n",
       " Text(0, 0, 'jana vish'),\n",
       " Text(0, 0, 'railway line'),\n",
       " Text(0, 0, 'day pakistan'),\n",
       " Text(0, 0, 'city city')]"
      ]
     },
     "execution_count": 14,
     "metadata": {},
     "output_type": "execute_result"
    },
    {
     "data": {
      "image/png": "[encoded data removed]",
      "text/plain": [
       "<Figure size 936x576 with 1 Axes>"
      ]
     },
     "metadata": {},
     "output_type": "display_data"
    }
   ],
   "source": [
    "f_l = []                                                                               #List of all the sections\n",
    "for i in range(len(filtered_list)):\n",
    "    f_l.append(\" \".join(filtered_list[i]))\n",
    "    \n",
    "#Most frequently occuring Bi-grams\n",
    "def get_top_n2_words(corpus, n=None):\n",
    "    vec1 = CountVectorizer(ngram_range=(2,2), max_features=2000).fit(corpus)\n",
    "    bag_of_words = vec1.transform(corpus)\n",
    "    sum_words = bag_of_words.sum(axis=0) \n",
    "    words_freq = [(word, sum_words[0, idx]) for word, idx in vec1.vocabulary_.items()]\n",
    "    words_freq =sorted(words_freq, key = lambda x: x[1], reverse=True)\n",
    "    return words_freq[:n]\n",
    "\n",
    "top2_words = get_top_n2_words(f_l, n=20)\n",
    "\n",
    "top2_df = pd.DataFrame(top2_words)\n",
    "top2_df.columns=[\"Bi-gram\", \"Freq\"]\n",
    "print(top2_df)\n",
    "\n",
    "#Barplot of most freq Bi-grams\n",
    "sns.set(rc={'figure.figsize':(13,8)})\n",
    "h=sns.barplot(x=\"Bi-gram\", y=\"Freq\", data=top2_df)\n",
    "h.set_xticklabels(h.get_xticklabels(), rotation=45)\n"
   ]
  },
  {
   "cell_type": "code",
   "execution_count": 15,
   "metadata": {},
   "outputs": [
    {
     "name": "stdout",
     "output_type": "stream",
     "text": [
      "                   Tri-gram  Freq\n",
      "0        describe term work     3\n",
      "1       work language speak     3\n",
      "2      present day pakistan     2\n",
      "3         cattle sheep goat     2\n",
      "4        term work language     2\n",
      "5         word use describe     2\n",
      "6         story hatappa old     1\n",
      "7      hatappa old building     1\n",
      "8        old building story     1\n",
      "9       building story tell     1\n",
      "10        story tell nearly     1\n",
      "11          tell nearly ago     1\n",
      "12       nearly ago railway     1\n",
      "13         ago railway line     1\n",
      "14         railway line lay     1\n",
      "15            line lay time     1\n",
      "16          lay time punjab     1\n",
      "17     time punjab engineer     1\n",
      "18  punjab engineer stumble     1\n",
      "19    engineer stumble site     1\n"
     ]
    },
    {
     "data": {
      "text/plain": [
       "[Text(0, 0, 'describe term work'),\n",
       " Text(0, 0, 'work language speak'),\n",
       " Text(0, 0, 'present day pakistan'),\n",
       " Text(0, 0, 'cattle sheep goat'),\n",
       " Text(0, 0, 'term work language'),\n",
       " Text(0, 0, 'word use describe'),\n",
       " Text(0, 0, 'story hatappa old'),\n",
       " Text(0, 0, 'hatappa old building'),\n",
       " Text(0, 0, 'old building story'),\n",
       " Text(0, 0, 'building story tell'),\n",
       " Text(0, 0, 'story tell nearly'),\n",
       " Text(0, 0, 'tell nearly ago'),\n",
       " Text(0, 0, 'nearly ago railway'),\n",
       " Text(0, 0, 'ago railway line'),\n",
       " Text(0, 0, 'railway line lay'),\n",
       " Text(0, 0, 'line lay time'),\n",
       " Text(0, 0, 'lay time punjab'),\n",
       " Text(0, 0, 'time punjab engineer'),\n",
       " Text(0, 0, 'punjab engineer stumble'),\n",
       " Text(0, 0, 'engineer stumble site')]"
      ]
     },
     "execution_count": 15,
     "metadata": {},
     "output_type": "execute_result"
    },
    {
     "data": {
      "image/png": "[encoded data removed]",
      "text/plain": [
       "<Figure size 936x576 with 1 Axes>"
      ]
     },
     "metadata": {},
     "output_type": "display_data"
    }
   ],
   "source": [
    "#Most frequently occuring Tri-grams\n",
    "\n",
    "def get_top_n3_words(corpus, n=None):\n",
    "    vec1 = CountVectorizer(ngram_range=(3,3), \n",
    "           max_features=2000).fit(corpus)\n",
    "    bag_of_words = vec1.transform(corpus)\n",
    "    sum_words = bag_of_words.sum(axis=0) \n",
    "    words_freq = [(word, sum_words[0, idx]) for word, idx in     \n",
    "                  vec1.vocabulary_.items()]\n",
    "    words_freq =sorted(words_freq, key = lambda x: x[1], \n",
    "                reverse=True)\n",
    "    return words_freq[:n]\n",
    "\n",
    "top3_words = get_top_n3_words(f_l, n=20)\n",
    "\n",
    "top3_df = pd.DataFrame(top3_words)\n",
    "top3_df.columns=[\"Tri-gram\", \"Freq\"]\n",
    "print(top3_df)\n",
    "\n",
    "#Barplot of most freq Tri-grams\n",
    "\n",
    "sns.set(rc={'figure.figsize':(13,8)})\n",
    "j=sns.barplot(x=\"Tri-gram\", y=\"Freq\", data=top3_df)\n",
    "j.set_xticklabels(j.get_xticklabels(), rotation=45)\n"
   ]
  },
  {
   "cell_type": "markdown",
   "metadata": {},
   "source": [
    "__Keyword Extraction using tf-idf method__"
   ]
  },
  {
   "cell_type": "code",
   "execution_count": 16,
   "metadata": {},
   "outputs": [
    {
     "name": "stdout",
     "output_type": "stream",
     "text": [
      "['plan']\n",
      "houses drains and streets\n"
     ]
    }
   ],
   "source": [
    "tfidf_transformer = TfidfTransformer(smooth_idf=True,use_idf=True)\n",
    "tfidf_transformer.fit(x)\n",
    "\n",
    "feature_names = count_vector.get_feature_names()                  #Get feature names\n",
    "docs = []                                                         #Fetch sections from which keywords needs to be extracted\n",
    "for i in range(len(filtered_list)):\n",
    "    docs.append(\" \".join(filtered_list[i]))\n",
    "                                                                  \n",
    "        \n",
    "def sort_coo(coo_matrix):                                                #Generate tf-idf for the given document\n",
    "    tuples = zip(coo_matrix.col, coo_matrix.data)\n",
    "    return sorted(tuples, key=lambda x: (x[1], x[0]), reverse=True)\n",
    " \n",
    "def extract_topn_from_vector(feature_names, sorted_items, topn=10):      #Feature names and tf-idf scores for top n items\n",
    "    \n",
    "    sorted_items = sorted_items[:topn]\n",
    " \n",
    "    score_vals = []\n",
    "    feature_vals = []\n",
    "    \n",
    "    for idx, score in sorted_items:                                      #word index and corresponding tf-idf score\n",
    "        score_vals.append(round(score, 3))\n",
    "        feature_vals.append(feature_names[idx])\n",
    " \n",
    "    results= {}                                                           #create tuples of feature,score and store in dict\n",
    "    for idx in range(len(feature_vals)):\n",
    "        results[feature_vals[idx]]=score_vals[idx]\n",
    "    \n",
    "    return results\n",
    "\n",
    "index = 1\n",
    "for doc in docs:\n",
    "    keywords = []\n",
    "    tf_idf_vector = tfidf_transformer.transform(count_vector.transform([doc]))\n",
    "    sorted_items = sort_coo(tf_idf_vector.tocoo())                                #sort the tf-idf vectors by descending order of scores\n",
    "\n",
    "    keywords = extract_topn_from_vector(feature_names,sorted_items,10)\n",
    "    \n",
    "    for k in set(keywords):\n",
    "        if (len(k)>3) and (k not in nc_keyword_vocab):                            #Avoid addition of words part of existing n_chunk\n",
    "            if k not in keyword_vocab:                                            #Avoid addition of words part of another section/same section\n",
    "                if not nlp(k)[0].is_stop:\n",
    "                    keyword_vocab.append(k)\n",
    "                    raw_keywords['Section ' + str(index)].append(k)\n",
    "            else:                                                                 #Remove the word from the other section too, to avoid multiple relations.\n",
    "                keyword_vocab.remove(k)\n",
    "                for i in range(1, index):\n",
    "                    if k in raw_keywords['Section ' + str(i)]:\n",
    "                        raw_keywords['Section ' + str(i)].remove(k)\n",
    "    \n",
    "    index += 1\n",
    "    \n",
    "print((raw_keywords['Section 2']))\n",
    "print(section_headers[1])"
   ]
  },
  {
   "cell_type": "markdown",
   "metadata": {},
   "source": [
    "_Pre-Process noun chunks_"
   ]
  },
  {
   "cell_type": "code",
   "execution_count": 17,
   "metadata": {},
   "outputs": [],
   "source": [
    "#preprocess() takes string as input and returns a word.\n",
    "\n",
    "for section, text in noun_chunks.items():\n",
    "    l = []\n",
    "    for word in text:\n",
    "        new_word = preprocess(word)\n",
    "        l.append(\" \".join(new_word))\n",
    "    noun_chunks[section] = l\n",
    "        \n",
    "#noun_chunks['Section 3']"
   ]
  },
  {
   "cell_type": "code",
   "execution_count": 18,
   "metadata": {},
   "outputs": [],
   "source": [
    "#Final raw keywords list.\n",
    "\n",
    "for k in raw_keywords:\n",
    "    raw_keywords[k] += noun_chunks[k]"
   ]
  },
  {
   "cell_type": "code",
   "execution_count": 19,
   "metadata": {},
   "outputs": [
    {
     "name": "stdout",
     "output_type": "stream",
     "text": [
      "new crafts in the city\n",
      "\n",
      "['carve', 'beard', 'vase', 'black designs', 'beena', 'thread', 'bronze', 'everybody', 'harappans', 'polishing', 'weapons', 'expert', 'illustration', 'rumade', 'animal', 'actual pieces', 'striking', 'vessels', 'work', 'spindle whorls', 'cotton', 'face', 'specialists', 'faience']\n"
     ]
    }
   ],
   "source": [
    "print(section_headers[2], raw_keywords['Section 3'], sep = '\\n\\n')"
   ]
  },
  {
   "cell_type": "code",
   "execution_count": 20,
   "metadata": {},
   "outputs": [],
   "source": [
    "final_sections = {}\n",
    "index = 0\n",
    "for section, words in raw_keywords.items():\n",
    "    if not section_headers[index] == 'Imagine':\n",
    "        if not len(words) < 15:\n",
    "            final_sections[section_headers[index]] = words\n",
    "    index+=1"
   ]
  },
  {
   "cell_type": "code",
   "execution_count": 21,
   "metadata": {},
   "outputs": [],
   "source": [
    "#Filter out the noisy words that do not exist - keyphrase list + headers\n",
    "\n",
    "def check_existence(section):\n",
    "    l = []\n",
    "    for word in section:\n",
    "        flag = 1\n",
    "        words = word.split()\n",
    "        for w in words:\n",
    "            try :\n",
    "                url_text = \"https://en.wikipedia.org/wiki/\" + w            #Check existence against a wiki article\n",
    "                urllib.request.urlopen(url_text).getcode()\n",
    "            except :\n",
    "                flag = 0\n",
    "                break\n",
    "        if (flag):\n",
    "            l.append(word)\n",
    "    return l\n",
    "\n",
    "keyphrases = {}\n",
    "for section, words in final_sections.items():     \n",
    "    keyphrases[section] = check_existence(final_sections[section])\n",
    "\n",
    "index = 0\n",
    "for header in section_headers:\n",
    "    section_headers[index] = \" \".join(check_existence(header.split()))\n",
    "    index += 1"
   ]
  },
  {
   "cell_type": "code",
   "execution_count": 22,
   "metadata": {},
   "outputs": [
    {
     "name": "stdout",
     "output_type": "stream",
     "text": [
      "\n",
      "THE STORY OF HATAPPA:\n",
      "['build', 'engineers', 'time', 'harappa', 'lothal', 'construction', 'things', 'special', 'natural', 'kalibangan', 'copper tool', 'beads', 'drained', 'steps', 'occasions', 'subcontinent', 'archaeologists', 'plaster', 'mound', 'buildings', 'pakistan', 'layer', 'rich source', 'west', 'similar', 'rooms', 'railway lines', 'punjab', 'water', 'fire altars', 'citadel', 'tank', 'interlocking pattern', 'baked', 'site', 'arabian', 'mohenjodaro', 'high quality bricks', 'gujarat', 'sacrifices', 'story', 'notte great bath', 'sind', 'important', 'walls', 'east', 'area', 'city']\n",
      "\n",
      "HOUSES DRAINS AND STREETS:\n",
      "['plan', 'scholars', 'silver', 'intervals', 'workshops', 'materials', 'streets', 'carnelian', 'villages', 'gentle slope', 'valuable', 'chert', 'homes', 'kinds', 'ornaments', 'distant lands', 'metal', 'centre', 'separate bathing', 'courtyard', 'weights', 'garment', 'script', 'women', 'busy place', 'rulers', 'blades', 'crafts persons', 'seals', 'inspection holes', 'straight', 'differences', 'terracotta', 'precious', 'children', 'mehrgarh', 'signs', 'string', 'beautiful', 'statue', 'right embroidered cloth', 'gold']\n",
      "\n",
      "NEW CRAFTS IN THE CITY:\n",
      "['carve', 'beard', 'vase', 'black designs', 'beena', 'thread', 'bronze', 'everybody', 'polishing', 'weapons', 'expert', 'illustration', 'animal', 'striking', 'vessels', 'work', 'spindle whorls', 'cotton', 'face', 'specialists', 'faience']\n",
      "\n",
      "IN SEARCH OF RAW MATERIALS:\n",
      "['produce', 'process', 'karnataka', 'oman', 'substances', 'asia', 'lessons', 'wheeled vehicles', 'customs', 'farmers', 'mary farming communities', 'search', 'present rajasthan', 'afghanistan', 'herders', 'iran', 'transport', 'wood', 'finished goods', 'plough', 'items', 'modes']\n",
      "\n",
      "FOOD FOR PEOPLE IN THE CITIES:\n",
      "['supply', 'grow', 'live', 'earth', 'wild', 'remains', 'countryside', 'real', 'seeds', 'food', 'sesame', 'mustard', 'buffalo', 'grass', 'antelope', 'scribes', 'plants', 'crops', 'irrigation', 'wheat', 'barley', 'goat', 'fields', 'herds', 'region', 'soil', 'linseed', 'models', 'pastures', 'summer months', 'settlements', 'distances', 'pulses', 'heavy rainfall', 'fish', 'cattle', 'sheep', 'rice']\n",
      "\n",
      "A CLOSER LOOK HARAPPAN TOWNS IN GUJARAT:\n",
      "['divide', 'kutch', 'making', 'sabarmati', 'massive', 'huge', 'fertile', 'white', 'dockyard', 'entrances', 'closer look towns', 'impression', 'writing', 'clay', 'goode', 'river channel', 'gateways', 'unique', 'letters', 'semi', 'khambat', 'guif', 'boats', 'rann', 'dholavira', 'fresh', 'open', 'public ceremonies', 'ships']\n",
      "\n",
      "THE MYSTERY OF THE END:\n",
      "['impressive', 'deforestation', 'green cover', 'flooding', 'floods', 'reasons', 'smelting', 'control', 'fuel', 'south', 'garbage', 'drainage system', 'major change', 'baking', 'case', 'long', 'effect', 'beginning', 'writing']\n",
      "\n",
      "ELSEWHERE:\n",
      "['nile', 'preserve', 'bodies', 'clothes', 'burials', 'ivory', 'tombs', 'pyramids', 'number', 'desert', 'timber', 'atlas', 'death', 'drink', 'armies', 'egypt', 'kings', 'musical instruments', 'utensils', 'world history']\n",
      "\n",
      "IMAGINE:\n",
      "['prepare', 'speak', 'pepe', 'religion', 'ports', 'sukta', 'heart', 'dasa', 'description', 'chariots', 'sentences', 'collection', 'song', 'scene', 'today', 'life', 'school', 'short poem', 'table']\n",
      "\n",
      "HOW HISTORIANS STUDY THE RIGVEDA:\n",
      "['listen', 'safely', 'goddesses', 'historians', 'translation', 'society', 'sage', 'axles', 'past', 'indus', 'maharashtra vishvamitra', 'verses', 'tributaries', 'hymns', 'dialogues', 'chariots', 'carts', 'printed texts', 'manuscript', 'path', 'library', 'prayers', 'yamuna', 'ganga', 'pune', 'addition', 'kashi', 'tome swift horses', 'valued', 'sarasvati', 'birch bark', 'sutlej']\n",
      "\n",
      "CATTLE HORSES AND CHARIOTS:\n",
      "['fight', 'capture', 'offerings', 'leaders', 'peace', 'yajnas', 'priests', 'hardy', 'battles', 'matters', 'wealth', 'rest', 'performance', 'ghee', 'grain', 'assemblies']\n",
      "\n",
      "WORDS TO DESCRIBE PEOPLE:\n",
      "['perform', 'opponents', 'brahmins', 'reference', 'fathers', 'palaces', 'owners', 'terms', 'groups', 'jana', 'vaishya', 'property', 'vish', 'feminine', 'dasas', 'capital', 'cultural practices', 'yadu', 'dasyus', 'bharata', 'slave', 'rituals', 'whatever', 'puru', 'rajas']\n",
      "\n",
      "SILENT SENTINELS THE STORY OF THE MEGALITHS:\n",
      "['axes', 'ground', 'indications', 'grave', 'skeletons', 'common features', 'megaliths', 'deccan', 'portholes', 'equipment', 'distinctive', 'position', 'dagger', 'surface', 'status', 'type', 'megalithic', 'brahmagiri', 'circle', 'spots', 'certain', 'silent sentinels', 'dead', 'iron', 'single standing', 'social', 'shaping', 'correct order', 'conch shell', 'cist', 'kashmir', 'signposts', 'bangles', 'followers', 'boulders']\n",
      "\n",
      "WHAT SKELETAL STUDIES TELL US:\n",
      "['teeth', 'girl', 'detail', 'modern anatomy', 'structure', 'skeletal studies', 'itis', 'physician', 'bones', 'charaka samhita', 'figure', 'problems', 'cartilage', 'joints', 'bearing', 'human', 'jewellery', 'size', 'basis']\n",
      "\n",
      "OCCUPATIONS AT INAMGAON:\n",
      "['sambhar', 'millets', 'amla', 'crocodile', 'variety', 'jamun', 'birds', 'bearing marks', 'crab', 'turtle', 'blackbuck', 'berries', 'possible', 'evidence', 'mongoose', 'occupations', 'deer']\n"
     ]
    }
   ],
   "source": [
    "#Print the section header with the set of keywords\n",
    "\n",
    "for section, words in keyphrases.items():\n",
    "    print(f'\\n{section.upper()}:', words, sep = '\\n')"
   ]
  },
  {
   "cell_type": "code",
   "execution_count": 33,
   "metadata": {},
   "outputs": [
    {
     "name": "stdout",
     "output_type": "stream",
     "text": [
      "HOW HISTORIANS STUDY THE RIGVEDA\n",
      "['axles', 'translation', 'hymns', 'dialogues', 'verses']\n",
      "['animal', 'baking', 'school', 'seeds', 'beena', 'women', 'public ceremonies', 'burials', 'wild', 'drink', 'skilful warriors', 'thie funeral', 'social', 'drainage system', 'previous section', 'skeletal studies', 'gentle slope', 'guif', 'equipment', 'terms']\n",
      "\n",
      "\n",
      "WHAT SKELETAL STUDIES TELL US\n",
      "['distinctions', 'figure', 'cartilage', 'skeletal studies', 'jewellery']\n",
      "['armies', 'blackbuck', 'green cover', 'thread', 'site', 'boulders', 'preserve', 'description', 'social', 'afghanistan', 'world history', 'build', 'tombs', 'summer months', 'beena', 'opponents', 'tome swift horses', 'writing', 'grass', 'fributary']\n",
      "\n",
      "\n",
      "ELSEWHERE\n",
      "['ivory', 'world history', 'tombs', 'clothes', 'musical instruments']\n",
      "['dast', 'society', 'goode', 'long', 'drainage system', 'writing', 'metal', 'leaders', 'sage', 'modern anatomy', 'brahmins', 'fish', 'iron', 'harappans', 'jamun', 'mustard', 'portholes', 'scribes', 'sambhar', 'rann']\n",
      "\n",
      "\n",
      "CATTLE HORSES AND CHARIOTS\n",
      "['hardy', 'matters', 'regulararmy', 'peace', 'ghee']\n",
      "['megaliths', 'city', 'signposts', 'single standing', 'important', 'pune', 'homes', 'bangles', 'bearing', 'archaeologists', 'cattle', 'water', 'carve', 'punjab', 'dead', 'sentences', 'conch shell', 'seeds', 'burials', 'east']\n",
      "\n",
      "\n",
      "SILENT SENTINELS THE STORY OF THE MEGALITHS\n",
      "['type', 'bangles', 'megalithic', 'brahmagiri', 'fone showin']\n",
      "['armies', 'bharata', 'yajnas', 'separate bathing', 'everybody', 'black designs', 'bodies', 'todistant', 'hymns', 'mound', 'skeletal studies', 'countryside', 'slave', 'crafts persons', 'printed texts', 'punjab', 'streets', 'finished goods', 'wheat', 'high quality bricks']\n",
      "\n",
      "\n"
     ]
    }
   ],
   "source": [
    "section_list = random.sample(list(final_sections.keys()), k = 5)                  #Randomly select 5 questions\n",
    "\n",
    "keyword_list = []                                                                 #List of all keywords\n",
    "for section, words in final_sections.items():\n",
    "    keyword_list += words\n",
    "    \n",
    "ans_clues = {}                                                                    #Dictionary with all the right answers\n",
    "rand_words = {}                                                                   #Dictionary with the wrong answers\n",
    "for i in range(5):\n",
    "    ans_clues[section_list[i]] = random.sample(final_sections[section_list[i]],5)\n",
    "    rand_words[section_list[i]] = random.sample([word for word in keyword_list                          #Add words not a clue to that particular section\n",
    "                                                 if not word in final_sections[section_list[i]]], 20)\n",
    "\n",
    "for section, words in ans_clues.items():                                          #Final output\n",
    "    print(section.upper(), words, rand_words[section], sep = '\\n')\n",
    "    print('\\n')"
   ]
  },
  {
   "cell_type": "code",
   "execution_count": 36,
   "metadata": {},
   "outputs": [],
   "source": [
    "fp = open('output.txt', 'w')                           #Write the final output to a .txt file for website use\n",
    "l = []\n",
    "for section, words in ans_clues.items():\n",
    "    fp.write(section.upper() + '\\n' + str(words) + '\\n' + str(rand_words[section])+'\\n')\n",
    "fp.close()"
   ]
  },
  {
   "cell_type": "code",
   "execution_count": null,
   "metadata": {},
   "outputs": [],
   "source": []
  }
 ],
 "metadata": {
  "kernelspec": {
   "display_name": "Python 3",
   "language": "python",
   "name": "python3"
  },
  "language_info": {
   "codemirror_mode": {
    "name": "ipython",
    "version": 3
   },
   "file_extension": ".py",
   "mimetype": "text/x-python",
   "name": "python",
   "nbconvert_exporter": "python",
   "pygments_lexer": "ipython3",
   "version": "3.7.7"
  }
 },
 "nbformat": 4,
 "nbformat_minor": 4
}
